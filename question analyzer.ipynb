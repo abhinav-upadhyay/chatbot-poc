{
 "cells": [
  {
   "cell_type": "code",
   "execution_count": 11,
   "metadata": {
    "collapsed": true
   },
   "outputs": [],
   "source": [
    "import spacy\n",
    "import numpy as np\n",
    "import pandas as pd\n",
    "from stopwords import ENGLISH_STOP_WORDS\n",
    "import warnings\n",
    "warnings.filterwarnings(\"ignore\", category=DeprecationWarning)\n"
   ]
  },
  {
   "cell_type": "code",
   "execution_count": 2,
   "metadata": {
    "collapsed": true
   },
   "outputs": [],
   "source": [
    "en_nlp = spacy.en.English()"
   ]
  },
  {
   "cell_type": "code",
   "execution_count": 3,
   "metadata": {
    "collapsed": true
   },
   "outputs": [],
   "source": [
    "def spacy_get_vec(sentence):\n",
    "    vec = np.zeros(300)\n",
    "    doc = en_nlp((sentence))\n",
    "    for word in doc:\n",
    "        #if word.lower_ in ENGLISH_STOP_WORDS:\n",
    "        #    continue\n",
    "        vec += word.vector\n",
    "    return vec"
   ]
  },
  {
   "cell_type": "code",
   "execution_count": 106,
   "metadata": {
    "collapsed": true
   },
   "outputs": [],
   "source": [
    "lines = open('./question.txt').readlines()\n",
    "vecs = []\n",
    "intents = []\n",
    "idfs = []\n",
    "for line in lines:\n",
    "    tokens = line.split(',')\n",
    "    sentence = tokens[0]\n",
    "    intent = tokens[1]\n",
    "    if intent[-1] == '\\n':\n",
    "        intent = intent[:-1]\n",
    "    vecs.append(spacy_get_vec(sentence))\n",
    "    intents.append(intent)\n",
    "    #idfs.append(get_idf(sentence))\n",
    "\n",
    "df = pd.DataFrame(vecs, columns=['vec_%d' % i for i in range(300)])\n",
    "#df['idf'] = idfs\n",
    "df['intents'] = intents\n",
    "df.intents = df.intents.astype('category')"
   ]
  },
  {
   "cell_type": "code",
   "execution_count": 107,
   "metadata": {
    "collapsed": false
   },
   "outputs": [
    {
     "data": {
      "text/html": [
       "<div>\n",
       "<table border=\"1\" class=\"dataframe\">\n",
       "  <thead>\n",
       "    <tr style=\"text-align: right;\">\n",
       "      <th></th>\n",
       "      <th>vec_0</th>\n",
       "      <th>vec_1</th>\n",
       "      <th>vec_2</th>\n",
       "      <th>vec_3</th>\n",
       "      <th>vec_4</th>\n",
       "      <th>vec_5</th>\n",
       "      <th>vec_6</th>\n",
       "      <th>vec_7</th>\n",
       "      <th>vec_8</th>\n",
       "      <th>vec_9</th>\n",
       "      <th>...</th>\n",
       "      <th>vec_291</th>\n",
       "      <th>vec_292</th>\n",
       "      <th>vec_293</th>\n",
       "      <th>vec_294</th>\n",
       "      <th>vec_295</th>\n",
       "      <th>vec_296</th>\n",
       "      <th>vec_297</th>\n",
       "      <th>vec_298</th>\n",
       "      <th>vec_299</th>\n",
       "      <th>intents</th>\n",
       "    </tr>\n",
       "  </thead>\n",
       "  <tbody>\n",
       "    <tr>\n",
       "      <th>0</th>\n",
       "      <td>-0.058150</td>\n",
       "      <td>0.004059</td>\n",
       "      <td>-0.145796</td>\n",
       "      <td>-0.061884</td>\n",
       "      <td>0.031343</td>\n",
       "      <td>0.087341</td>\n",
       "      <td>-0.194867</td>\n",
       "      <td>-0.137436</td>\n",
       "      <td>0.133669</td>\n",
       "      <td>0.032237</td>\n",
       "      <td>...</td>\n",
       "      <td>-0.200298</td>\n",
       "      <td>-0.014908</td>\n",
       "      <td>-0.105034</td>\n",
       "      <td>0.027138</td>\n",
       "      <td>-0.100345</td>\n",
       "      <td>-0.239374</td>\n",
       "      <td>0.153825</td>\n",
       "      <td>0.109905</td>\n",
       "      <td>-0.210085</td>\n",
       "      <td>name</td>\n",
       "    </tr>\n",
       "    <tr>\n",
       "      <th>1</th>\n",
       "      <td>0.054641</td>\n",
       "      <td>0.101480</td>\n",
       "      <td>-0.140236</td>\n",
       "      <td>-0.209629</td>\n",
       "      <td>0.210244</td>\n",
       "      <td>0.237446</td>\n",
       "      <td>-0.133493</td>\n",
       "      <td>0.125002</td>\n",
       "      <td>0.169063</td>\n",
       "      <td>0.036991</td>\n",
       "      <td>...</td>\n",
       "      <td>-0.113492</td>\n",
       "      <td>0.112089</td>\n",
       "      <td>0.050605</td>\n",
       "      <td>-0.036360</td>\n",
       "      <td>-0.207701</td>\n",
       "      <td>-0.160545</td>\n",
       "      <td>0.115035</td>\n",
       "      <td>-0.239938</td>\n",
       "      <td>-0.125308</td>\n",
       "      <td>name</td>\n",
       "    </tr>\n",
       "    <tr>\n",
       "      <th>2</th>\n",
       "      <td>-0.044503</td>\n",
       "      <td>0.003799</td>\n",
       "      <td>-0.173259</td>\n",
       "      <td>-0.198783</td>\n",
       "      <td>0.137944</td>\n",
       "      <td>0.098054</td>\n",
       "      <td>-0.085885</td>\n",
       "      <td>0.017625</td>\n",
       "      <td>0.202091</td>\n",
       "      <td>0.082392</td>\n",
       "      <td>...</td>\n",
       "      <td>-0.061114</td>\n",
       "      <td>0.130471</td>\n",
       "      <td>0.045094</td>\n",
       "      <td>0.003426</td>\n",
       "      <td>-0.230525</td>\n",
       "      <td>-0.097541</td>\n",
       "      <td>0.128447</td>\n",
       "      <td>-0.085151</td>\n",
       "      <td>-0.083890</td>\n",
       "      <td>name</td>\n",
       "    </tr>\n",
       "    <tr>\n",
       "      <th>3</th>\n",
       "      <td>0.144701</td>\n",
       "      <td>0.116740</td>\n",
       "      <td>0.015040</td>\n",
       "      <td>-0.169500</td>\n",
       "      <td>-0.038329</td>\n",
       "      <td>0.168020</td>\n",
       "      <td>-0.264787</td>\n",
       "      <td>-0.123588</td>\n",
       "      <td>0.036654</td>\n",
       "      <td>0.010474</td>\n",
       "      <td>...</td>\n",
       "      <td>-0.007536</td>\n",
       "      <td>0.008177</td>\n",
       "      <td>-0.227186</td>\n",
       "      <td>0.108725</td>\n",
       "      <td>-0.369863</td>\n",
       "      <td>-0.225025</td>\n",
       "      <td>0.265710</td>\n",
       "      <td>0.031394</td>\n",
       "      <td>-0.013227</td>\n",
       "      <td>name</td>\n",
       "    </tr>\n",
       "    <tr>\n",
       "      <th>4</th>\n",
       "      <td>0.211440</td>\n",
       "      <td>0.160685</td>\n",
       "      <td>-0.051632</td>\n",
       "      <td>-0.143768</td>\n",
       "      <td>-0.004933</td>\n",
       "      <td>0.070291</td>\n",
       "      <td>-0.258258</td>\n",
       "      <td>-0.179165</td>\n",
       "      <td>0.088886</td>\n",
       "      <td>-0.110131</td>\n",
       "      <td>...</td>\n",
       "      <td>-0.053267</td>\n",
       "      <td>0.092519</td>\n",
       "      <td>-0.351504</td>\n",
       "      <td>0.118517</td>\n",
       "      <td>-0.268701</td>\n",
       "      <td>-0.147621</td>\n",
       "      <td>0.174754</td>\n",
       "      <td>0.017807</td>\n",
       "      <td>-0.075447</td>\n",
       "      <td>name</td>\n",
       "    </tr>\n",
       "  </tbody>\n",
       "</table>\n",
       "<p>5 rows × 301 columns</p>\n",
       "</div>"
      ],
      "text/plain": [
       "      vec_0     vec_1     vec_2     vec_3     vec_4     vec_5     vec_6  \\\n",
       "0 -0.058150  0.004059 -0.145796 -0.061884  0.031343  0.087341 -0.194867   \n",
       "1  0.054641  0.101480 -0.140236 -0.209629  0.210244  0.237446 -0.133493   \n",
       "2 -0.044503  0.003799 -0.173259 -0.198783  0.137944  0.098054 -0.085885   \n",
       "3  0.144701  0.116740  0.015040 -0.169500 -0.038329  0.168020 -0.264787   \n",
       "4  0.211440  0.160685 -0.051632 -0.143768 -0.004933  0.070291 -0.258258   \n",
       "\n",
       "      vec_7     vec_8     vec_9   ...      vec_291   vec_292   vec_293  \\\n",
       "0 -0.137436  0.133669  0.032237   ...    -0.200298 -0.014908 -0.105034   \n",
       "1  0.125002  0.169063  0.036991   ...    -0.113492  0.112089  0.050605   \n",
       "2  0.017625  0.202091  0.082392   ...    -0.061114  0.130471  0.045094   \n",
       "3 -0.123588  0.036654  0.010474   ...    -0.007536  0.008177 -0.227186   \n",
       "4 -0.179165  0.088886 -0.110131   ...    -0.053267  0.092519 -0.351504   \n",
       "\n",
       "    vec_294   vec_295   vec_296   vec_297   vec_298   vec_299  intents  \n",
       "0  0.027138 -0.100345 -0.239374  0.153825  0.109905 -0.210085     name  \n",
       "1 -0.036360 -0.207701 -0.160545  0.115035 -0.239938 -0.125308     name  \n",
       "2  0.003426 -0.230525 -0.097541  0.128447 -0.085151 -0.083890     name  \n",
       "3  0.108725 -0.369863 -0.225025  0.265710  0.031394 -0.013227     name  \n",
       "4  0.118517 -0.268701 -0.147621  0.174754  0.017807 -0.075447     name  \n",
       "\n",
       "[5 rows x 301 columns]"
      ]
     },
     "execution_count": 107,
     "metadata": {},
     "output_type": "execute_result"
    }
   ],
   "source": [
    "df.head()"
   ]
  },
  {
   "cell_type": "code",
   "execution_count": 108,
   "metadata": {
    "collapsed": true
   },
   "outputs": [],
   "source": [
    "from sklearn.utils import shuffle\n",
    "df = shuffle(df)"
   ]
  },
  {
   "cell_type": "code",
   "execution_count": 109,
   "metadata": {
    "collapsed": true
   },
   "outputs": [],
   "source": [
    "X = df.iloc[:, :-1].values\n",
    "y = df.iloc[:,-1:].values.ravel()"
   ]
  },
  {
   "cell_type": "code",
   "execution_count": 110,
   "metadata": {
    "collapsed": false
   },
   "outputs": [
    {
     "name": "stdout",
     "output_type": "stream",
     "text": [
      "0.943396226415\n"
     ]
    }
   ],
   "source": [
    "from sklearn.linear_model import LogisticRegression\n",
    "logit_model = LogisticRegression()\n",
    "logit_model.fit(X, y)\n",
    "print(logit_model.score(X, y))\n"
   ]
  },
  {
   "cell_type": "code",
   "execution_count": 111,
   "metadata": {
    "collapsed": false
   },
   "outputs": [
    {
     "name": "stdout",
     "output_type": "stream",
     "text": [
      "1.0\n"
     ]
    }
   ],
   "source": [
    "from sklearn.ensemble import GradientBoostingClassifier\n",
    "gradboost = GradientBoostingClassifier(n_estimators=600, max_depth=30, learning_rate=0.01)\n",
    "gradboost.fit(X, y)\n",
    "print(gradboost.score(X, y))\n"
   ]
  },
  {
   "cell_type": "code",
   "execution_count": 113,
   "metadata": {
    "collapsed": false
   },
   "outputs": [
    {
     "name": "stdout",
     "output_type": "stream",
     "text": [
      "[[-3.4741925  -3.47182637 -0.19479803 -3.17934957 -3.28589624 -3.32611904]]\n",
      "['location']\n"
     ]
    }
   ],
   "source": [
    "sent = 'do you live in the computer'\n",
    "print(gradboost.predict_log_proba(spacy_get_vec(sent)))\n",
    "print(gradboost.predict(spacy_get_vec(sent)))"
   ]
  },
  {
   "cell_type": "code",
   "execution_count": 120,
   "metadata": {
    "collapsed": false
   },
   "outputs": [
    {
     "name": "stdout",
     "output_type": "stream",
     "text": [
      "[[ -9.22391919e+00  -9.22155306e+00  -9.02732034e+00  -8.97761287e+00\n",
      "   -5.58375604e-04  -9.07584573e+00]]\n",
      "['name']\n"
     ]
    }
   ],
   "source": [
    "sent = 'how does your mom call you'\n",
    "print(gradboost.predict_log_proba(spacy_get_vec(sent)))\n",
    "print(gradboost.predict(spacy_get_vec(sent)))"
   ]
  },
  {
   "cell_type": "code",
   "execution_count": 121,
   "metadata": {
    "collapsed": false
   },
   "outputs": [
    {
     "name": "stdout",
     "output_type": "stream",
     "text": [
      "[[-4.97554899 -4.97318286 -3.37001435 -2.54032215 -0.14509821 -4.82747553]]\n",
      "['name']\n"
     ]
    }
   ],
   "source": [
    "sent = 'how does my mom call me'\n",
    "print(gradboost.predict_log_proba(spacy_get_vec(sent)))\n",
    "print(gradboost.predict(spacy_get_vec(sent)))"
   ]
  },
  {
   "cell_type": "code",
   "execution_count": 33,
   "metadata": {
    "collapsed": false
   },
   "outputs": [
    {
     "data": {
      "text/plain": [
       "array(['bot', 'greet_response', 'location', 'marriage', 'name',\n",
       "       'users_name'], dtype=object)"
      ]
     },
     "execution_count": 33,
     "metadata": {},
     "output_type": "execute_result"
    }
   ],
   "source": [
    "gradboost.classes_"
   ]
  },
  {
   "cell_type": "code",
   "execution_count": 116,
   "metadata": {
    "collapsed": true
   },
   "outputs": [],
   "source": [
    "from sklearn.neural_network import MLPClassifier\n",
    "nn = MLPClassifier(hidden_layer_sizes=(300,128,64,6), max_iter=1000)"
   ]
  },
  {
   "cell_type": "code",
   "execution_count": 117,
   "metadata": {
    "collapsed": false
   },
   "outputs": [
    {
     "data": {
      "text/plain": [
       "1.0"
      ]
     },
     "execution_count": 117,
     "metadata": {},
     "output_type": "execute_result"
    }
   ],
   "source": [
    "nn.fit(X_train, y_train)\n",
    "nn.score(X_train, y_train)"
   ]
  },
  {
   "cell_type": "code",
   "execution_count": 119,
   "metadata": {
    "collapsed": false
   },
   "outputs": [
    {
     "name": "stdout",
     "output_type": "stream",
     "text": [
      "[[  5.60886541e-16   6.20975488e-11   5.84206522e-18   9.99459575e-01\n",
      "    3.44494571e-16   5.40425181e-04]]\n",
      "['marriage']\n"
     ]
    }
   ],
   "source": [
    "sent = 'how does my mom call me'\n",
    "#gradboost.predict_proba(np.append(spacy_get_vec(sent), get_idf(sent)))\n",
    "print(nn.predict_proba(spacy_get_vec(sent)))\n",
    "print(nn.predict(spacy_get_vec(sent)))"
   ]
  },
  {
   "cell_type": "code",
   "execution_count": 122,
   "metadata": {
    "collapsed": false
   },
   "outputs": [
    {
     "data": {
      "text/plain": [
       "['question.pkl']"
      ]
     },
     "execution_count": 122,
     "metadata": {},
     "output_type": "execute_result"
    }
   ],
   "source": [
    "from sklearn.externals import joblib\n",
    "joblib.dump(gradboost, 'question.pkl')"
   ]
  },
  {
   "cell_type": "code",
   "execution_count": null,
   "metadata": {
    "collapsed": true
   },
   "outputs": [],
   "source": []
  }
 ],
 "metadata": {
  "kernelspec": {
   "display_name": "Python 3",
   "language": "python",
   "name": "python3"
  },
  "language_info": {
   "codemirror_mode": {
    "name": "ipython",
    "version": 3
   },
   "file_extension": ".py",
   "mimetype": "text/x-python",
   "name": "python",
   "nbconvert_exporter": "python",
   "pygments_lexer": "ipython3",
   "version": "3.5.2"
  }
 },
 "nbformat": 4,
 "nbformat_minor": 1
}
