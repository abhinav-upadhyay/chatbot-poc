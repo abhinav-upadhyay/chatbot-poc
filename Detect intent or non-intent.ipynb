{
 "cells": [
  {
   "cell_type": "code",
   "execution_count": 9,
   "metadata": {
    "collapsed": true
   },
   "outputs": [],
   "source": [
    "import spacy\n",
    "import numpy as np\n",
    "import pandas as pd\n",
    "from stopwords import ENGLISH_STOP_WORDS\n",
    "import warnings\n",
    "warnings.filterwarnings(\"ignore\", category=DeprecationWarning)\n"
   ]
  },
  {
   "cell_type": "code",
   "execution_count": 2,
   "metadata": {
    "collapsed": true
   },
   "outputs": [],
   "source": [
    "en_nlp = spacy.en.English()"
   ]
  },
  {
   "cell_type": "code",
   "execution_count": 3,
   "metadata": {
    "collapsed": true
   },
   "outputs": [],
   "source": [
    "def spacy_get_vec(sentence):\n",
    "    vec = np.zeros(300)\n",
    "    doc = en_nlp((sentence))\n",
    "    for word in doc:\n",
    "        if word.lower_ in ENGLISH_STOP_WORDS:\n",
    "            continue\n",
    "        vec += word.vector\n",
    "    return vec"
   ]
  },
  {
   "cell_type": "code",
   "execution_count": 190,
   "metadata": {
    "collapsed": false
   },
   "outputs": [
    {
     "data": {
      "text/plain": [
       "<128x111 sparse matrix of type '<class 'numpy.float64'>'\n",
       "\twith 185 stored elements in Compressed Sparse Row format>"
      ]
     },
     "execution_count": 190,
     "metadata": {},
     "output_type": "execute_result"
    }
   ],
   "source": [
    "from sklearn.feature_extraction.text import TfidfVectorizer\n",
    "\n",
    "vectorizer = TfidfVectorizer(stop_words=ENGLISH_STOP_WORDS)\n",
    "vectorizer.fit_transform([''.join(line.split(',')[0]) for line in lines])\n"
   ]
  },
  {
   "cell_type": "code",
   "execution_count": 191,
   "metadata": {
    "collapsed": false
   },
   "outputs": [
    {
     "data": {
      "text/plain": [
       "set()"
      ]
     },
     "execution_count": 191,
     "metadata": {},
     "output_type": "execute_result"
    }
   ],
   "source": [
    "vectorizer.stop_words_"
   ]
  },
  {
   "cell_type": "code",
   "execution_count": 192,
   "metadata": {
    "collapsed": false
   },
   "outputs": [],
   "source": [
    "def get_idf(sentence):\n",
    "    score = 1.0\n",
    "    for word in sentence.split():\n",
    "        if word[-1] == '\\n' or word[-1] == ',' or word[-1] == '.' or word[-1] == ['!']:\n",
    "            word = word[:-1]\n",
    "        if word not in vectorizer.vocabulary_:\n",
    "            continue\n",
    "        index = vectorizer.vocabulary_[word]\n",
    "        score = score / vectorizer.idf_[index]\n",
    "    return score\n"
   ]
  },
  {
   "cell_type": "code",
   "execution_count": 4,
   "metadata": {
    "collapsed": false
   },
   "outputs": [],
   "source": [
    "lines = open('./class.txt').readlines()\n",
    "vecs = []\n",
    "intents = []\n",
    "idfs = []\n",
    "for line in lines:\n",
    "    tokens = line.split(',')\n",
    "    sentence = tokens[0]\n",
    "    intent = tokens[1]\n",
    "    if intent[-1] == '\\n':\n",
    "        intent = intent[:-1]\n",
    "    vecs.append(spacy_get_vec(sentence))\n",
    "    intents.append(intent)\n",
    "    #idfs.append(get_idf(sentence))\n",
    "\n",
    "df = pd.DataFrame(vecs, columns=['vec_%d' % i for i in range(300)])\n",
    "#df['idf'] = idfs\n",
    "df['intents'] = intents\n",
    "df.intents = df.intents.astype('category')"
   ]
  },
  {
   "cell_type": "code",
   "execution_count": 5,
   "metadata": {
    "collapsed": true
   },
   "outputs": [],
   "source": [
    "from sklearn.utils import shuffle\n",
    "df = shuffle(df)"
   ]
  },
  {
   "cell_type": "code",
   "execution_count": 6,
   "metadata": {
    "collapsed": false
   },
   "outputs": [
    {
     "data": {
      "text/html": [
       "<div>\n",
       "<table border=\"1\" class=\"dataframe\">\n",
       "  <thead>\n",
       "    <tr style=\"text-align: right;\">\n",
       "      <th></th>\n",
       "      <th>vec_0</th>\n",
       "      <th>vec_1</th>\n",
       "      <th>vec_2</th>\n",
       "      <th>vec_3</th>\n",
       "      <th>vec_4</th>\n",
       "      <th>vec_5</th>\n",
       "      <th>vec_6</th>\n",
       "      <th>vec_7</th>\n",
       "      <th>vec_8</th>\n",
       "      <th>vec_9</th>\n",
       "      <th>...</th>\n",
       "      <th>vec_291</th>\n",
       "      <th>vec_292</th>\n",
       "      <th>vec_293</th>\n",
       "      <th>vec_294</th>\n",
       "      <th>vec_295</th>\n",
       "      <th>vec_296</th>\n",
       "      <th>vec_297</th>\n",
       "      <th>vec_298</th>\n",
       "      <th>vec_299</th>\n",
       "      <th>intents</th>\n",
       "    </tr>\n",
       "  </thead>\n",
       "  <tbody>\n",
       "    <tr>\n",
       "      <th>28</th>\n",
       "      <td>-0.047148</td>\n",
       "      <td>-0.052614</td>\n",
       "      <td>-0.019019</td>\n",
       "      <td>-0.028234</td>\n",
       "      <td>0.099283</td>\n",
       "      <td>0.090774</td>\n",
       "      <td>-0.025177</td>\n",
       "      <td>-0.125545</td>\n",
       "      <td>0.024765</td>\n",
       "      <td>0.019097</td>\n",
       "      <td>...</td>\n",
       "      <td>-0.012836</td>\n",
       "      <td>0.019333</td>\n",
       "      <td>-0.122630</td>\n",
       "      <td>-0.008697</td>\n",
       "      <td>-0.007496</td>\n",
       "      <td>-0.101008</td>\n",
       "      <td>-0.029107</td>\n",
       "      <td>-0.069498</td>\n",
       "      <td>-0.029899</td>\n",
       "      <td>intent</td>\n",
       "    </tr>\n",
       "    <tr>\n",
       "      <th>95</th>\n",
       "      <td>0.007811</td>\n",
       "      <td>-0.023038</td>\n",
       "      <td>-0.085239</td>\n",
       "      <td>-0.048018</td>\n",
       "      <td>0.053016</td>\n",
       "      <td>0.072656</td>\n",
       "      <td>-0.033160</td>\n",
       "      <td>-0.008235</td>\n",
       "      <td>-0.014402</td>\n",
       "      <td>-0.073086</td>\n",
       "      <td>...</td>\n",
       "      <td>0.012784</td>\n",
       "      <td>0.005360</td>\n",
       "      <td>-0.098058</td>\n",
       "      <td>0.003844</td>\n",
       "      <td>-0.031880</td>\n",
       "      <td>0.012176</td>\n",
       "      <td>0.037164</td>\n",
       "      <td>-0.062658</td>\n",
       "      <td>-0.025203</td>\n",
       "      <td>non_intent</td>\n",
       "    </tr>\n",
       "    <tr>\n",
       "      <th>61</th>\n",
       "      <td>0.154205</td>\n",
       "      <td>0.069486</td>\n",
       "      <td>0.049501</td>\n",
       "      <td>-0.050952</td>\n",
       "      <td>0.107840</td>\n",
       "      <td>0.082489</td>\n",
       "      <td>-0.015041</td>\n",
       "      <td>-0.005090</td>\n",
       "      <td>0.040752</td>\n",
       "      <td>0.021366</td>\n",
       "      <td>...</td>\n",
       "      <td>0.003494</td>\n",
       "      <td>-0.012460</td>\n",
       "      <td>-0.108506</td>\n",
       "      <td>-0.075914</td>\n",
       "      <td>-0.038400</td>\n",
       "      <td>-0.088636</td>\n",
       "      <td>0.089918</td>\n",
       "      <td>0.094394</td>\n",
       "      <td>-0.069333</td>\n",
       "      <td>non_intent</td>\n",
       "    </tr>\n",
       "    <tr>\n",
       "      <th>84</th>\n",
       "      <td>0.066939</td>\n",
       "      <td>-0.047388</td>\n",
       "      <td>0.005932</td>\n",
       "      <td>0.041755</td>\n",
       "      <td>0.121324</td>\n",
       "      <td>-0.057365</td>\n",
       "      <td>0.047533</td>\n",
       "      <td>0.076065</td>\n",
       "      <td>0.004791</td>\n",
       "      <td>0.010513</td>\n",
       "      <td>...</td>\n",
       "      <td>0.012315</td>\n",
       "      <td>-0.013224</td>\n",
       "      <td>-0.064540</td>\n",
       "      <td>-0.030876</td>\n",
       "      <td>0.006241</td>\n",
       "      <td>-0.038575</td>\n",
       "      <td>0.108856</td>\n",
       "      <td>0.016149</td>\n",
       "      <td>-0.013379</td>\n",
       "      <td>non_intent</td>\n",
       "    </tr>\n",
       "    <tr>\n",
       "      <th>0</th>\n",
       "      <td>0.014738</td>\n",
       "      <td>0.011007</td>\n",
       "      <td>0.001503</td>\n",
       "      <td>0.006558</td>\n",
       "      <td>0.068473</td>\n",
       "      <td>0.047063</td>\n",
       "      <td>0.039280</td>\n",
       "      <td>0.127276</td>\n",
       "      <td>0.070502</td>\n",
       "      <td>-0.074319</td>\n",
       "      <td>...</td>\n",
       "      <td>-0.013501</td>\n",
       "      <td>0.035775</td>\n",
       "      <td>-0.058489</td>\n",
       "      <td>-0.026455</td>\n",
       "      <td>-0.128484</td>\n",
       "      <td>-0.133027</td>\n",
       "      <td>-0.043225</td>\n",
       "      <td>-0.024182</td>\n",
       "      <td>0.006277</td>\n",
       "      <td>intent</td>\n",
       "    </tr>\n",
       "  </tbody>\n",
       "</table>\n",
       "<p>5 rows × 301 columns</p>\n",
       "</div>"
      ],
      "text/plain": [
       "       vec_0     vec_1     vec_2     vec_3     vec_4     vec_5     vec_6  \\\n",
       "28 -0.047148 -0.052614 -0.019019 -0.028234  0.099283  0.090774 -0.025177   \n",
       "95  0.007811 -0.023038 -0.085239 -0.048018  0.053016  0.072656 -0.033160   \n",
       "61  0.154205  0.069486  0.049501 -0.050952  0.107840  0.082489 -0.015041   \n",
       "84  0.066939 -0.047388  0.005932  0.041755  0.121324 -0.057365  0.047533   \n",
       "0   0.014738  0.011007  0.001503  0.006558  0.068473  0.047063  0.039280   \n",
       "\n",
       "       vec_7     vec_8     vec_9     ...       vec_291   vec_292   vec_293  \\\n",
       "28 -0.125545  0.024765  0.019097     ...     -0.012836  0.019333 -0.122630   \n",
       "95 -0.008235 -0.014402 -0.073086     ...      0.012784  0.005360 -0.098058   \n",
       "61 -0.005090  0.040752  0.021366     ...      0.003494 -0.012460 -0.108506   \n",
       "84  0.076065  0.004791  0.010513     ...      0.012315 -0.013224 -0.064540   \n",
       "0   0.127276  0.070502 -0.074319     ...     -0.013501  0.035775 -0.058489   \n",
       "\n",
       "     vec_294   vec_295   vec_296   vec_297   vec_298   vec_299     intents  \n",
       "28 -0.008697 -0.007496 -0.101008 -0.029107 -0.069498 -0.029899      intent  \n",
       "95  0.003844 -0.031880  0.012176  0.037164 -0.062658 -0.025203  non_intent  \n",
       "61 -0.075914 -0.038400 -0.088636  0.089918  0.094394 -0.069333  non_intent  \n",
       "84 -0.030876  0.006241 -0.038575  0.108856  0.016149 -0.013379  non_intent  \n",
       "0  -0.026455 -0.128484 -0.133027 -0.043225 -0.024182  0.006277      intent  \n",
       "\n",
       "[5 rows x 301 columns]"
      ]
     },
     "execution_count": 6,
     "metadata": {},
     "output_type": "execute_result"
    }
   ],
   "source": [
    "df.head()"
   ]
  },
  {
   "cell_type": "code",
   "execution_count": 7,
   "metadata": {
    "collapsed": true
   },
   "outputs": [],
   "source": [
    "X = df.iloc[:, :-1].values\n",
    "y = df.iloc[:,-1:].values.ravel()"
   ]
  },
  {
   "cell_type": "code",
   "execution_count": 10,
   "metadata": {
    "collapsed": false
   },
   "outputs": [],
   "source": [
    "from sklearn.cross_validation import train_test_split\n",
    "X_train,X_val,y_train,y_val = train_test_split(X, y, test_size=0.20)"
   ]
  },
  {
   "cell_type": "code",
   "execution_count": 11,
   "metadata": {
    "collapsed": false
   },
   "outputs": [
    {
     "data": {
      "text/plain": [
       "LogisticRegression(C=5.0, class_weight={'intent': 1.2, 'non_intent': 0.8},\n",
       "          dual=False, fit_intercept=True, intercept_scaling=1,\n",
       "          max_iter=100, multi_class='ovr', n_jobs=1, penalty='l2',\n",
       "          random_state=None, solver='liblinear', tol=0.0001, verbose=0,\n",
       "          warm_start=False)"
      ]
     },
     "execution_count": 11,
     "metadata": {},
     "output_type": "execute_result"
    }
   ],
   "source": [
    "from sklearn.linear_model import LogisticRegression\n",
    "logit_model = LogisticRegression(C=5.0, class_weight={'intent': 1.2, 'non_intent': 0.8})\n",
    "logit_model.fit(X_train, y_train)"
   ]
  },
  {
   "cell_type": "code",
   "execution_count": 12,
   "metadata": {
    "collapsed": false
   },
   "outputs": [
    {
     "name": "stdout",
     "output_type": "stream",
     "text": [
      "0.965217391304\n",
      "0.793103448276\n"
     ]
    }
   ],
   "source": [
    "print(logit_model.score(X_train, y_train))\n",
    "print(logit_model.score(X_val, y_val))"
   ]
  },
  {
   "cell_type": "code",
   "execution_count": 13,
   "metadata": {
    "collapsed": false
   },
   "outputs": [
    {
     "data": {
      "text/plain": [
       "array([[ 0.29767589,  0.70232411]])"
      ]
     },
     "execution_count": 13,
     "metadata": {},
     "output_type": "execute_result"
    }
   ],
   "source": [
    "sent = 'it looks cloudy'\n",
    "#gradboost.predict_proba(np.append(spacy_get_vec(sent), get_idf(sent)))\n",
    "logit_model.predict_proba(spacy_get_vec(sent))"
   ]
  },
  {
   "cell_type": "code",
   "execution_count": 14,
   "metadata": {
    "collapsed": true
   },
   "outputs": [],
   "source": [
    "from sklearn.ensemble import GradientBoostingClassifier\n",
    "gradboost = GradientBoostingClassifier(n_estimators=500, max_depth=25, max_features='log2')"
   ]
  },
  {
   "cell_type": "code",
   "execution_count": 15,
   "metadata": {
    "collapsed": false
   },
   "outputs": [
    {
     "name": "stdout",
     "output_type": "stream",
     "text": [
      "0.965217391304\n",
      "0.862068965517\n"
     ]
    }
   ],
   "source": [
    "gradboost.fit(X_train, y_train)\n",
    "print(gradboost.score(X_train, y_train))\n",
    "print(gradboost.score(X_val, y_val))"
   ]
  },
  {
   "cell_type": "code",
   "execution_count": 16,
   "metadata": {
    "collapsed": false
   },
   "outputs": [
    {
     "data": {
      "text/plain": [
       "array([[  1.58935433e-06,   9.99998411e-01]])"
      ]
     },
     "execution_count": 16,
     "metadata": {},
     "output_type": "execute_result"
    }
   ],
   "source": [
    "sent = 'it looks cloudy'\n",
    "#gradboost.predict_proba(np.append(spacy_get_vec(sent), get_idf(sent)))\n",
    "gradboost.predict_proba(spacy_get_vec(sent))"
   ]
  },
  {
   "cell_type": "code",
   "execution_count": 17,
   "metadata": {
    "collapsed": false
   },
   "outputs": [
    {
     "data": {
      "text/plain": [
       "array(['intent', 'non_intent'], dtype=object)"
      ]
     },
     "execution_count": 17,
     "metadata": {},
     "output_type": "execute_result"
    }
   ],
   "source": [
    "gradboost.classes_"
   ]
  },
  {
   "cell_type": "code",
   "execution_count": 18,
   "metadata": {
    "collapsed": false
   },
   "outputs": [
    {
     "data": {
      "text/plain": [
       "SVC(C=1.0, cache_size=200, class_weight=None, coef0=0.0,\n",
       "  decision_function_shape=None, degree=2, gamma='auto', kernel='linear',\n",
       "  max_iter=-1, probability=True, random_state=None, shrinking=True,\n",
       "  tol=0.001, verbose=False)"
      ]
     },
     "execution_count": 18,
     "metadata": {},
     "output_type": "execute_result"
    }
   ],
   "source": [
    "from sklearn.svm import SVC\n",
    "svc = SVC(kernel='linear', degree=2, probability=True)\n",
    "svc.fit(X_train, y_train)"
   ]
  },
  {
   "cell_type": "code",
   "execution_count": 19,
   "metadata": {
    "collapsed": false
   },
   "outputs": [
    {
     "name": "stdout",
     "output_type": "stream",
     "text": [
      "0.947826086957\n",
      "0.931034482759\n"
     ]
    }
   ],
   "source": [
    "print(svc.score(X_train, y_train))\n",
    "print(svc.score(X_val, y_val))"
   ]
  },
  {
   "cell_type": "code",
   "execution_count": 20,
   "metadata": {
    "collapsed": false
   },
   "outputs": [
    {
     "data": {
      "text/plain": [
       "array([[ 0.99133295,  0.00866705]])"
      ]
     },
     "execution_count": 20,
     "metadata": {},
     "output_type": "execute_result"
    }
   ],
   "source": [
    "sent = 'i need to fly home'\n",
    "#gradboost.predict_proba(np.append(spacy_get_vec(sent), get_idf(sent)))\n",
    "svc.predict_proba(spacy_get_vec(sent))"
   ]
  },
  {
   "cell_type": "code",
   "execution_count": 25,
   "metadata": {
    "collapsed": false
   },
   "outputs": [
    {
     "data": {
      "text/plain": [
       "array([[ 0.89129347,  0.10870653]])"
      ]
     },
     "execution_count": 25,
     "metadata": {},
     "output_type": "execute_result"
    }
   ],
   "source": [
    "sent = 'it appears dark outside'\n",
    "svc.predict_proba(spacy_get_vec(sent))"
   ]
  },
  {
   "cell_type": "code",
   "execution_count": 34,
   "metadata": {
    "collapsed": false
   },
   "outputs": [
    {
     "data": {
      "text/plain": [
       "array([[ 0.61296589,  0.38703411]])"
      ]
     },
     "execution_count": 34,
     "metadata": {},
     "output_type": "execute_result"
    }
   ],
   "source": [
    "sent = 'my name is Gopal'\n",
    "svc.predict_proba(spacy_get_vec(sent))"
   ]
  },
  {
   "cell_type": "code",
   "execution_count": 27,
   "metadata": {
    "collapsed": false
   },
   "outputs": [
    {
     "data": {
      "text/plain": [
       "array([[ 0.50630058,  0.49369942]])"
      ]
     },
     "execution_count": 27,
     "metadata": {},
     "output_type": "execute_result"
    }
   ],
   "source": [
    "sent = 'it looks cloudy'\n",
    "svc.predict_proba(spacy_get_vec(sent))"
   ]
  },
  {
   "cell_type": "code",
   "execution_count": 28,
   "metadata": {
    "collapsed": false
   },
   "outputs": [
    {
     "data": {
      "text/plain": [
       "MLPClassifier(activation='tanh', alpha=0.0001, batch_size='auto', beta_1=0.9,\n",
       "       beta_2=0.999, early_stopping=False, epsilon=1e-08,\n",
       "       hidden_layer_sizes=(256, 128, 2), learning_rate='adaptive',\n",
       "       learning_rate_init=0.001, max_iter=1000, momentum=0.9,\n",
       "       nesterovs_momentum=True, power_t=0.5, random_state=None,\n",
       "       shuffle=True, solver='lbfgs', tol=0.0001, validation_fraction=0.1,\n",
       "       verbose=False, warm_start=False)"
      ]
     },
     "execution_count": 28,
     "metadata": {},
     "output_type": "execute_result"
    }
   ],
   "source": [
    "from sklearn.neural_network import MLPClassifier\n",
    "nn = MLPClassifier(hidden_layer_sizes=(256, 128, 2), activation='tanh', learning_rate='adaptive', solver='lbfgs', max_iter=1000, )\n",
    "nn.fit(X_train, y_train)\n"
   ]
  },
  {
   "cell_type": "code",
   "execution_count": 29,
   "metadata": {
    "collapsed": false
   },
   "outputs": [
    {
     "name": "stdout",
     "output_type": "stream",
     "text": [
      "0.965217391304\n",
      "0.793103448276\n"
     ]
    }
   ],
   "source": [
    "print(nn.score(X_train, y_train))\n",
    "print(nn.score(X_val, y_val))"
   ]
  },
  {
   "cell_type": "code",
   "execution_count": 30,
   "metadata": {
    "collapsed": false
   },
   "outputs": [
    {
     "data": {
      "text/plain": [
       "array([[  9.99818681e-01,   1.81318571e-04]])"
      ]
     },
     "execution_count": 30,
     "metadata": {},
     "output_type": "execute_result"
    }
   ],
   "source": [
    "sent = 'I have to fly home'\n",
    "nn.predict_proba(spacy_get_vec(sent))"
   ]
  },
  {
   "cell_type": "code",
   "execution_count": 32,
   "metadata": {
    "collapsed": false
   },
   "outputs": [
    {
     "data": {
      "text/plain": [
       "array([[  1.87735158e-05,   9.99981226e-01]])"
      ]
     },
     "execution_count": 32,
     "metadata": {},
     "output_type": "execute_result"
    }
   ],
   "source": [
    "sent = 'my name is Gopal'\n",
    "nn.predict_proba(spacy_get_vec(sent))"
   ]
  },
  {
   "cell_type": "code",
   "execution_count": 33,
   "metadata": {
    "collapsed": false
   },
   "outputs": [
    {
     "data": {
      "text/plain": [
       "array([[  1.87734762e-05,   9.99981227e-01]])"
      ]
     },
     "execution_count": 33,
     "metadata": {},
     "output_type": "execute_result"
    }
   ],
   "source": [
    "sent = 'it looks cloudy'\n",
    "nn.predict_proba(spacy_get_vec(sent))"
   ]
  },
  {
   "cell_type": "code",
   "execution_count": 35,
   "metadata": {
    "collapsed": false
   },
   "outputs": [
    {
     "data": {
      "text/plain": [
       "['class.pkl']"
      ]
     },
     "execution_count": 35,
     "metadata": {},
     "output_type": "execute_result"
    }
   ],
   "source": [
    "from sklearn.externals import joblib\n",
    "joblib.dump(svc, 'class.pkl')"
   ]
  },
  {
   "cell_type": "code",
   "execution_count": null,
   "metadata": {
    "collapsed": true
   },
   "outputs": [],
   "source": []
  }
 ],
 "metadata": {
  "kernelspec": {
   "display_name": "Python 3",
   "language": "python",
   "name": "python3"
  },
  "language_info": {
   "codemirror_mode": {
    "name": "ipython",
    "version": 3
   },
   "file_extension": ".py",
   "mimetype": "text/x-python",
   "name": "python",
   "nbconvert_exporter": "python",
   "pygments_lexer": "ipython3",
   "version": "3.5.2"
  }
 },
 "nbformat": 4,
 "nbformat_minor": 1
}
