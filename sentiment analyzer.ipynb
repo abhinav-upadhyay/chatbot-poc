{
 "cells": [
  {
   "cell_type": "code",
   "execution_count": 9,
   "metadata": {
    "collapsed": true
   },
   "outputs": [],
   "source": [
    "import spacy\n",
    "import numpy as np\n",
    "import pandas as pd\n",
    "from stopwords import ENGLISH_STOP_WORDS\n",
    "import warnings\n",
    "warnings.filterwarnings(\"ignore\", category=DeprecationWarning)\n"
   ]
  },
  {
   "cell_type": "code",
   "execution_count": 2,
   "metadata": {
    "collapsed": true
   },
   "outputs": [],
   "source": [
    "en_nlp = spacy.en.English()"
   ]
  },
  {
   "cell_type": "code",
   "execution_count": 3,
   "metadata": {
    "collapsed": false
   },
   "outputs": [],
   "source": [
    "def spacy_get_vec(sentence):\n",
    "    vec = np.zeros(600)\n",
    "    doc = en_nlp((sentence))\n",
    "\n",
    "    allowed_words = set(['not', 'what', 'why', 'how', 'where'])\n",
    "    \"\"\"\n",
    "    tempvec = None\n",
    "    i = -1\n",
    "    for index,word in enumerate(doc):\n",
    "        #if word.lower_ not in allowed_words and word.lower_ in ENGLISH_STOP_WORDS:\n",
    "        #    continue\n",
    "        i += 1\n",
    "        if tempvec is None:\n",
    "            tempvec = word.vector\n",
    "        else:\n",
    "            tempvec = np.append(tempvec, word.vector)\n",
    "        if (i + 1) % 2 == 0:\n",
    "            vec += tempvec\n",
    "            tempvec = None\n",
    "            \"\"\"\n",
    "    for i,word in enumerate(doc):\n",
    "        if i < len(doc) -1:\n",
    "            tempvec = np.append(word.vector, doc[i + 1].vector)\n",
    "            vec += tempvec\n",
    "        else:\n",
    "            tempvec = np.append(word.vector, np.zeros(300))\n",
    "            vec += tempvec\n",
    "    return vec"
   ]
  },
  {
   "cell_type": "code",
   "execution_count": 4,
   "metadata": {
    "collapsed": false
   },
   "outputs": [],
   "source": [
    "lines = open('./sentiment.txt').readlines()\n",
    "vecs = []\n",
    "intents = []\n",
    "idfs = []\n",
    "for line in lines:\n",
    "    tokens = line.split(',')\n",
    "    sentence = tokens[0]\n",
    "    intent = tokens[1]\n",
    "    if intent[-1] == '\\n':\n",
    "        intent = intent[:-1]\n",
    "    vecs.append(spacy_get_vec(sentence))\n",
    "    intents.append(intent)\n",
    "    #idfs.append(get_idf(sentence))\n",
    "\n",
    "df = pd.DataFrame(vecs, columns=['vec_%d' % i for i in range(600)])\n",
    "#df['idf'] = idfs\n",
    "df['intents'] = intents\n",
    "df.intents = df.intents.astype('category')"
   ]
  },
  {
   "cell_type": "code",
   "execution_count": 5,
   "metadata": {
    "collapsed": false
   },
   "outputs": [
    {
     "data": {
      "text/html": [
       "<div>\n",
       "<table border=\"1\" class=\"dataframe\">\n",
       "  <thead>\n",
       "    <tr style=\"text-align: right;\">\n",
       "      <th></th>\n",
       "      <th>vec_0</th>\n",
       "      <th>vec_1</th>\n",
       "      <th>vec_2</th>\n",
       "      <th>vec_3</th>\n",
       "      <th>vec_4</th>\n",
       "      <th>vec_5</th>\n",
       "      <th>vec_6</th>\n",
       "      <th>vec_7</th>\n",
       "      <th>vec_8</th>\n",
       "      <th>vec_9</th>\n",
       "      <th>...</th>\n",
       "      <th>vec_591</th>\n",
       "      <th>vec_592</th>\n",
       "      <th>vec_593</th>\n",
       "      <th>vec_594</th>\n",
       "      <th>vec_595</th>\n",
       "      <th>vec_596</th>\n",
       "      <th>vec_597</th>\n",
       "      <th>vec_598</th>\n",
       "      <th>vec_599</th>\n",
       "      <th>intents</th>\n",
       "    </tr>\n",
       "  </thead>\n",
       "  <tbody>\n",
       "    <tr>\n",
       "      <th>0</th>\n",
       "      <td>-0.017591</td>\n",
       "      <td>0.182894</td>\n",
       "      <td>-0.087779</td>\n",
       "      <td>-0.068835</td>\n",
       "      <td>0.025753</td>\n",
       "      <td>0.033162</td>\n",
       "      <td>-0.084063</td>\n",
       "      <td>0.058867</td>\n",
       "      <td>0.082818</td>\n",
       "      <td>-0.040250</td>\n",
       "      <td>...</td>\n",
       "      <td>-0.044110</td>\n",
       "      <td>0.014063</td>\n",
       "      <td>-0.040921</td>\n",
       "      <td>-0.060923</td>\n",
       "      <td>0.010078</td>\n",
       "      <td>0.017878</td>\n",
       "      <td>0.016140</td>\n",
       "      <td>0.064506</td>\n",
       "      <td>-0.004897</td>\n",
       "      <td>congrats</td>\n",
       "    </tr>\n",
       "    <tr>\n",
       "      <th>1</th>\n",
       "      <td>0.060574</td>\n",
       "      <td>0.109562</td>\n",
       "      <td>-0.069634</td>\n",
       "      <td>-0.088281</td>\n",
       "      <td>-0.029968</td>\n",
       "      <td>0.105061</td>\n",
       "      <td>-0.129419</td>\n",
       "      <td>0.113220</td>\n",
       "      <td>0.035708</td>\n",
       "      <td>-0.039846</td>\n",
       "      <td>...</td>\n",
       "      <td>-0.165324</td>\n",
       "      <td>-0.026800</td>\n",
       "      <td>-0.049312</td>\n",
       "      <td>-0.156678</td>\n",
       "      <td>-0.030167</td>\n",
       "      <td>-0.029797</td>\n",
       "      <td>-0.007047</td>\n",
       "      <td>0.047412</td>\n",
       "      <td>0.054314</td>\n",
       "      <td>congrats</td>\n",
       "    </tr>\n",
       "    <tr>\n",
       "      <th>2</th>\n",
       "      <td>0.145300</td>\n",
       "      <td>0.035108</td>\n",
       "      <td>-0.011270</td>\n",
       "      <td>-0.071486</td>\n",
       "      <td>0.004000</td>\n",
       "      <td>0.046305</td>\n",
       "      <td>-0.111672</td>\n",
       "      <td>0.056375</td>\n",
       "      <td>0.117620</td>\n",
       "      <td>-0.131979</td>\n",
       "      <td>...</td>\n",
       "      <td>0.030691</td>\n",
       "      <td>0.022986</td>\n",
       "      <td>-0.003500</td>\n",
       "      <td>-0.121251</td>\n",
       "      <td>-0.042003</td>\n",
       "      <td>0.186914</td>\n",
       "      <td>-0.022237</td>\n",
       "      <td>0.033146</td>\n",
       "      <td>0.021581</td>\n",
       "      <td>congrats</td>\n",
       "    </tr>\n",
       "    <tr>\n",
       "      <th>3</th>\n",
       "      <td>0.153262</td>\n",
       "      <td>-0.020188</td>\n",
       "      <td>-0.023359</td>\n",
       "      <td>-0.003338</td>\n",
       "      <td>0.014698</td>\n",
       "      <td>-0.003429</td>\n",
       "      <td>-0.123272</td>\n",
       "      <td>0.051771</td>\n",
       "      <td>0.055314</td>\n",
       "      <td>-0.073981</td>\n",
       "      <td>...</td>\n",
       "      <td>0.014924</td>\n",
       "      <td>0.011049</td>\n",
       "      <td>0.015859</td>\n",
       "      <td>-0.009561</td>\n",
       "      <td>-0.007343</td>\n",
       "      <td>0.168358</td>\n",
       "      <td>0.005968</td>\n",
       "      <td>0.000083</td>\n",
       "      <td>0.058110</td>\n",
       "      <td>congrats</td>\n",
       "    </tr>\n",
       "    <tr>\n",
       "      <th>4</th>\n",
       "      <td>0.046152</td>\n",
       "      <td>0.124861</td>\n",
       "      <td>0.010688</td>\n",
       "      <td>-0.105057</td>\n",
       "      <td>0.007412</td>\n",
       "      <td>0.083475</td>\n",
       "      <td>-0.137084</td>\n",
       "      <td>-0.040911</td>\n",
       "      <td>0.154606</td>\n",
       "      <td>-0.140780</td>\n",
       "      <td>...</td>\n",
       "      <td>-0.006170</td>\n",
       "      <td>-0.051440</td>\n",
       "      <td>-0.138807</td>\n",
       "      <td>0.034807</td>\n",
       "      <td>-0.035373</td>\n",
       "      <td>-0.165428</td>\n",
       "      <td>0.050296</td>\n",
       "      <td>0.014325</td>\n",
       "      <td>0.021373</td>\n",
       "      <td>congrats</td>\n",
       "    </tr>\n",
       "  </tbody>\n",
       "</table>\n",
       "<p>5 rows × 601 columns</p>\n",
       "</div>"
      ],
      "text/plain": [
       "      vec_0     vec_1     vec_2     vec_3     vec_4     vec_5     vec_6  \\\n",
       "0 -0.017591  0.182894 -0.087779 -0.068835  0.025753  0.033162 -0.084063   \n",
       "1  0.060574  0.109562 -0.069634 -0.088281 -0.029968  0.105061 -0.129419   \n",
       "2  0.145300  0.035108 -0.011270 -0.071486  0.004000  0.046305 -0.111672   \n",
       "3  0.153262 -0.020188 -0.023359 -0.003338  0.014698 -0.003429 -0.123272   \n",
       "4  0.046152  0.124861  0.010688 -0.105057  0.007412  0.083475 -0.137084   \n",
       "\n",
       "      vec_7     vec_8     vec_9    ...      vec_591   vec_592   vec_593  \\\n",
       "0  0.058867  0.082818 -0.040250    ...    -0.044110  0.014063 -0.040921   \n",
       "1  0.113220  0.035708 -0.039846    ...    -0.165324 -0.026800 -0.049312   \n",
       "2  0.056375  0.117620 -0.131979    ...     0.030691  0.022986 -0.003500   \n",
       "3  0.051771  0.055314 -0.073981    ...     0.014924  0.011049  0.015859   \n",
       "4 -0.040911  0.154606 -0.140780    ...    -0.006170 -0.051440 -0.138807   \n",
       "\n",
       "    vec_594   vec_595   vec_596   vec_597   vec_598   vec_599   intents  \n",
       "0 -0.060923  0.010078  0.017878  0.016140  0.064506 -0.004897  congrats  \n",
       "1 -0.156678 -0.030167 -0.029797 -0.007047  0.047412  0.054314  congrats  \n",
       "2 -0.121251 -0.042003  0.186914 -0.022237  0.033146  0.021581  congrats  \n",
       "3 -0.009561 -0.007343  0.168358  0.005968  0.000083  0.058110  congrats  \n",
       "4  0.034807 -0.035373 -0.165428  0.050296  0.014325  0.021373  congrats  \n",
       "\n",
       "[5 rows x 601 columns]"
      ]
     },
     "execution_count": 5,
     "metadata": {},
     "output_type": "execute_result"
    }
   ],
   "source": [
    "df.head()"
   ]
  },
  {
   "cell_type": "code",
   "execution_count": 6,
   "metadata": {
    "collapsed": true
   },
   "outputs": [],
   "source": [
    "from sklearn.utils import shuffle\n",
    "df = shuffle(df)"
   ]
  },
  {
   "cell_type": "code",
   "execution_count": 7,
   "metadata": {
    "collapsed": true
   },
   "outputs": [],
   "source": [
    "X = df.iloc[:, :-1].values\n",
    "y = df.iloc[:,-1:].values.ravel()"
   ]
  },
  {
   "cell_type": "code",
   "execution_count": 10,
   "metadata": {
    "collapsed": false
   },
   "outputs": [],
   "source": [
    "from sklearn.cross_validation import train_test_split\n",
    "X_train,X_val,y_train,y_val = train_test_split(X, y, test_size=0.20)"
   ]
  },
  {
   "cell_type": "code",
   "execution_count": 11,
   "metadata": {
    "collapsed": false
   },
   "outputs": [
    {
     "name": "stdout",
     "output_type": "stream",
     "text": [
      "0.875\n",
      "0.8\n"
     ]
    }
   ],
   "source": [
    "from sklearn.linear_model import LogisticRegression\n",
    "logit_model = LogisticRegression()\n",
    "logit_model.fit(X_train, y_train)\n",
    "print(logit_model.score(X_train, y_train))\n",
    "print(logit_model.score(X_val, y_val))"
   ]
  },
  {
   "cell_type": "code",
   "execution_count": 12,
   "metadata": {
    "collapsed": false
   },
   "outputs": [
    {
     "name": "stdout",
     "output_type": "stream",
     "text": [
      "[[ 0.09656709  0.18002798  0.72340492]]\n",
      "['sorry']\n"
     ]
    }
   ],
   "source": [
    "sent = 'I think I am feeling well'\n",
    "print(logit_model.predict_proba(spacy_get_vec(sent)))\n",
    "print(logit_model.predict(spacy_get_vec(sent)))"
   ]
  },
  {
   "cell_type": "code",
   "execution_count": 13,
   "metadata": {
    "collapsed": false
   },
   "outputs": [
    {
     "name": "stdout",
     "output_type": "stream",
     "text": [
      "1.0\n",
      "0.65\n"
     ]
    }
   ],
   "source": [
    "from sklearn.ensemble import GradientBoostingClassifier\n",
    "gradboost = GradientBoostingClassifier(n_estimators=600, max_depth=24)\n",
    "gradboost.fit(X_train, y_train)\n",
    "print(gradboost.score(X_train, y_train))\n",
    "print(gradboost.score(X_val, y_val))"
   ]
  },
  {
   "cell_type": "code",
   "execution_count": 18,
   "metadata": {
    "collapsed": false
   },
   "outputs": [
    {
     "name": "stdout",
     "output_type": "stream",
     "text": [
      "[[ 0.22311493  0.49973071  0.27715437]]\n",
      "['neutral']\n"
     ]
    }
   ],
   "source": [
    "sent = 'I think I am not feeling lonely'\n",
    "print(gradboost.predict_proba(spacy_get_vec(sent)))\n",
    "print(gradboost.predict(spacy_get_vec(sent)))"
   ]
  },
  {
   "cell_type": "code",
   "execution_count": 19,
   "metadata": {
    "collapsed": false
   },
   "outputs": [
    {
     "name": "stdout",
     "output_type": "stream",
     "text": [
      "[[ 0.22327484  0.33443184  0.44229332]]\n",
      "['sorry']\n"
     ]
    }
   ],
   "source": [
    "sent = 'I think I am feeling lonely'\n",
    "print(gradboost.predict_proba(spacy_get_vec(sent)))\n",
    "print(gradboost.predict(spacy_get_vec(sent)))"
   ]
  },
  {
   "cell_type": "code",
   "execution_count": 21,
   "metadata": {
    "collapsed": false
   },
   "outputs": [
    {
     "name": "stdout",
     "output_type": "stream",
     "text": [
      "[[ 0.23699733  0.39907823  0.36392444]]\n",
      "['neutral']\n"
     ]
    }
   ],
   "source": [
    "sent = 'I think I am feeling better'\n",
    "print(gradboost.predict_proba(spacy_get_vec(sent)))\n",
    "print(gradboost.predict(spacy_get_vec(sent)))"
   ]
  },
  {
   "cell_type": "code",
   "execution_count": 22,
   "metadata": {
    "collapsed": false
   },
   "outputs": [
    {
     "data": {
      "text/plain": [
       "array(['congrats', 'neutral', 'sorry'], dtype=object)"
      ]
     },
     "execution_count": 22,
     "metadata": {},
     "output_type": "execute_result"
    }
   ],
   "source": [
    "gradboost.classes_"
   ]
  },
  {
   "cell_type": "code",
   "execution_count": 23,
   "metadata": {
    "collapsed": false
   },
   "outputs": [],
   "source": [
    "from sklearn.neural_network import MLPClassifier\n",
    "nn = MLPClassifier(hidden_layer_sizes=(300,128, 64, 4), solver='lbfgs', activation='tanh', max_iter=1000)"
   ]
  },
  {
   "cell_type": "code",
   "execution_count": 24,
   "metadata": {
    "collapsed": false
   },
   "outputs": [
    {
     "name": "stdout",
     "output_type": "stream",
     "text": [
      "1.0\n",
      "0.85\n"
     ]
    }
   ],
   "source": [
    "nn.fit(X_train, y_train)\n",
    "print(nn.score(X_train, y_train))\n",
    "print(nn.score(X_val, y_val))"
   ]
  },
  {
   "cell_type": "code",
   "execution_count": 26,
   "metadata": {
    "collapsed": false
   },
   "outputs": [
    {
     "name": "stdout",
     "output_type": "stream",
     "text": [
      "[[  2.68671592e-15   9.98797803e-01   1.20219729e-03]]\n",
      "['neutral']\n"
     ]
    }
   ],
   "source": [
    "sent = 'i think I am not feeling unwell'\n",
    "print(nn.predict_proba(spacy_get_vec(sent)))\n",
    "print(nn.predict(spacy_get_vec(sent)))"
   ]
  },
  {
   "cell_type": "code",
   "execution_count": 27,
   "metadata": {
    "collapsed": false
   },
   "outputs": [
    {
     "name": "stdout",
     "output_type": "stream",
     "text": [
      "[[  1.93001485e-02   2.18527467e-06   9.80697666e-01]]\n",
      "['sorry']\n"
     ]
    }
   ],
   "source": [
    "sent = 'i think I am feeling unwell'\n",
    "print(nn.predict_proba(spacy_get_vec(sent)))\n",
    "print(nn.predict(spacy_get_vec(sent)))"
   ]
  },
  {
   "cell_type": "code",
   "execution_count": 29,
   "metadata": {
    "collapsed": false
   },
   "outputs": [
    {
     "name": "stdout",
     "output_type": "stream",
     "text": [
      "[[  1.36342389e-09   5.99877418e-01   4.00122580e-01]]\n",
      "['neutral']\n"
     ]
    }
   ],
   "source": [
    "sent = 'i think I am feeling well'\n",
    "print(nn.predict_proba(spacy_get_vec(sent)))\n",
    "print(nn.predict(spacy_get_vec(sent)))"
   ]
  },
  {
   "cell_type": "code",
   "execution_count": 30,
   "metadata": {
    "collapsed": false
   },
   "outputs": [
    {
     "name": "stdout",
     "output_type": "stream",
     "text": [
      "[[  8.73595625e-05   2.37434055e-04   9.99675206e-01]]\n",
      "['sorry']\n"
     ]
    }
   ],
   "source": [
    "sent = 'i think I am not feeling well'\n",
    "print(nn.predict_proba(spacy_get_vec(sent)))\n",
    "print(nn.predict(spacy_get_vec(sent)))"
   ]
  },
  {
   "cell_type": "code",
   "execution_count": 34,
   "metadata": {
    "collapsed": false
   },
   "outputs": [
    {
     "data": {
      "text/plain": [
       "['sentiment.pkl']"
      ]
     },
     "execution_count": 34,
     "metadata": {},
     "output_type": "execute_result"
    }
   ],
   "source": [
    "from sklearn.externals import joblib\n",
    "joblib.dump(nn, 'sentiment.pkl')"
   ]
  },
  {
   "cell_type": "code",
   "execution_count": 31,
   "metadata": {
    "collapsed": false
   },
   "outputs": [
    {
     "data": {
      "text/plain": [
       "SVC(C=1.0, cache_size=200, class_weight=None, coef0=0.0,\n",
       "  decision_function_shape=None, degree=4, gamma=0.8, kernel='rbf',\n",
       "  max_iter=-1, probability=True, random_state=None, shrinking=True,\n",
       "  tol=0.001, verbose=False)"
      ]
     },
     "execution_count": 31,
     "metadata": {},
     "output_type": "execute_result"
    }
   ],
   "source": [
    "from sklearn.svm import SVC\n",
    "svc = SVC(kernel='rbf', degree=4, gamma=0.8, probability=True)\n",
    "svc.fit(X_train, y_train)"
   ]
  },
  {
   "cell_type": "code",
   "execution_count": 32,
   "metadata": {
    "collapsed": false
   },
   "outputs": [
    {
     "name": "stdout",
     "output_type": "stream",
     "text": [
      "1.0\n",
      "0.7\n"
     ]
    }
   ],
   "source": [
    "print(svc.score(X_train, y_train))\n",
    "print(svc.score(X_val, y_val))"
   ]
  },
  {
   "cell_type": "code",
   "execution_count": 33,
   "metadata": {
    "collapsed": false
   },
   "outputs": [
    {
     "name": "stdout",
     "output_type": "stream",
     "text": [
      "[[ 0.17088662  0.3746642   0.45444918]]\n",
      "['sorry']\n"
     ]
    }
   ],
   "source": [
    "sent = 'i think i am not feeling depressed'\n",
    "print(svc.predict_proba(spacy_get_vec(sent)))\n",
    "print(svc.predict(spacy_get_vec(sent)))"
   ]
  },
  {
   "cell_type": "code",
   "execution_count": null,
   "metadata": {
    "collapsed": true
   },
   "outputs": [],
   "source": []
  }
 ],
 "metadata": {
  "kernelspec": {
   "display_name": "Python 3",
   "language": "python",
   "name": "python3"
  },
  "language_info": {
   "codemirror_mode": {
    "name": "ipython",
    "version": 3
   },
   "file_extension": ".py",
   "mimetype": "text/x-python",
   "name": "python",
   "nbconvert_exporter": "python",
   "pygments_lexer": "ipython3",
   "version": "3.5.2"
  }
 },
 "nbformat": 4,
 "nbformat_minor": 1
}
