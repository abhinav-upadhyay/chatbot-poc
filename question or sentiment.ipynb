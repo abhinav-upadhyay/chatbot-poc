{
 "cells": [
  {
   "cell_type": "code",
   "execution_count": 9,
   "metadata": {
    "collapsed": true
   },
   "outputs": [],
   "source": [
    "import spacy\n",
    "import numpy as np\n",
    "import pandas as pd\n",
    "from stopwords import ENGLISH_STOP_WORDS\n",
    "import warnings\n",
    "warnings.filterwarnings(\"ignore\", category=DeprecationWarning)\n"
   ]
  },
  {
   "cell_type": "code",
   "execution_count": 2,
   "metadata": {
    "collapsed": true
   },
   "outputs": [],
   "source": [
    "en_nlp = spacy.en.English()"
   ]
  },
  {
   "cell_type": "code",
   "execution_count": 3,
   "metadata": {
    "collapsed": true
   },
   "outputs": [],
   "source": [
    "def spacy_get_vec(sentence):\n",
    "    vec = np.zeros(300)\n",
    "    doc = en_nlp((sentence))\n",
    "    for word in doc:\n",
    "        #if word.lower_ in ENGLISH_STOP_WORDS:\n",
    "        #    continue\n",
    "        vec += word.vector\n",
    "    return vec"
   ]
  },
  {
   "cell_type": "code",
   "execution_count": 30,
   "metadata": {
    "collapsed": false
   },
   "outputs": [],
   "source": [
    "lines = open('./is_question.txt').readlines()\n",
    "vecs = []\n",
    "intents = []\n",
    "idfs = []\n",
    "for line in lines:\n",
    "    tokens = line.split(',')\n",
    "    sentence = tokens[0]\n",
    "    intent = tokens[1]\n",
    "    if intent[-1] == '\\n':\n",
    "        intent = intent[:-1]\n",
    "    vecs.append(spacy_get_vec(sentence))\n",
    "    intents.append(intent)\n",
    "\n",
    "df = pd.DataFrame(vecs, columns=['vec_%d' % i for i in range(300)])\n",
    "df['intents'] = intents\n",
    "df.intents = df.intents.astype('category')"
   ]
  },
  {
   "cell_type": "code",
   "execution_count": 31,
   "metadata": {
    "collapsed": true
   },
   "outputs": [],
   "source": [
    "from sklearn.utils import shuffle\n",
    "df = shuffle(df)"
   ]
  },
  {
   "cell_type": "code",
   "execution_count": 32,
   "metadata": {
    "collapsed": false
   },
   "outputs": [
    {
     "data": {
      "text/html": [
       "<div>\n",
       "<table border=\"1\" class=\"dataframe\">\n",
       "  <thead>\n",
       "    <tr style=\"text-align: right;\">\n",
       "      <th></th>\n",
       "      <th>vec_0</th>\n",
       "      <th>vec_1</th>\n",
       "      <th>vec_2</th>\n",
       "      <th>vec_3</th>\n",
       "      <th>vec_4</th>\n",
       "      <th>vec_5</th>\n",
       "      <th>vec_6</th>\n",
       "      <th>vec_7</th>\n",
       "      <th>vec_8</th>\n",
       "      <th>vec_9</th>\n",
       "      <th>...</th>\n",
       "      <th>vec_291</th>\n",
       "      <th>vec_292</th>\n",
       "      <th>vec_293</th>\n",
       "      <th>vec_294</th>\n",
       "      <th>vec_295</th>\n",
       "      <th>vec_296</th>\n",
       "      <th>vec_297</th>\n",
       "      <th>vec_298</th>\n",
       "      <th>vec_299</th>\n",
       "      <th>intents</th>\n",
       "    </tr>\n",
       "  </thead>\n",
       "  <tbody>\n",
       "    <tr>\n",
       "      <th>40</th>\n",
       "      <td>0.121055</td>\n",
       "      <td>0.038133</td>\n",
       "      <td>0.012964</td>\n",
       "      <td>-0.020334</td>\n",
       "      <td>0.172047</td>\n",
       "      <td>-0.018421</td>\n",
       "      <td>0.012288</td>\n",
       "      <td>0.080411</td>\n",
       "      <td>0.024699</td>\n",
       "      <td>0.064562</td>\n",
       "      <td>...</td>\n",
       "      <td>0.112001</td>\n",
       "      <td>0.017225</td>\n",
       "      <td>-0.103424</td>\n",
       "      <td>0.014032</td>\n",
       "      <td>-0.122818</td>\n",
       "      <td>-0.040137</td>\n",
       "      <td>0.270733</td>\n",
       "      <td>-0.004087</td>\n",
       "      <td>0.040575</td>\n",
       "      <td>sentiment</td>\n",
       "    </tr>\n",
       "    <tr>\n",
       "      <th>96</th>\n",
       "      <td>0.184373</td>\n",
       "      <td>-0.027292</td>\n",
       "      <td>-0.003579</td>\n",
       "      <td>-0.157275</td>\n",
       "      <td>0.120644</td>\n",
       "      <td>0.097438</td>\n",
       "      <td>-0.022361</td>\n",
       "      <td>0.015892</td>\n",
       "      <td>0.075208</td>\n",
       "      <td>-0.044138</td>\n",
       "      <td>...</td>\n",
       "      <td>0.035711</td>\n",
       "      <td>0.143653</td>\n",
       "      <td>-0.209778</td>\n",
       "      <td>-0.099372</td>\n",
       "      <td>-0.021035</td>\n",
       "      <td>-0.146351</td>\n",
       "      <td>0.091656</td>\n",
       "      <td>0.039907</td>\n",
       "      <td>-0.022892</td>\n",
       "      <td>sentiment</td>\n",
       "    </tr>\n",
       "    <tr>\n",
       "      <th>104</th>\n",
       "      <td>0.211440</td>\n",
       "      <td>0.160685</td>\n",
       "      <td>-0.051632</td>\n",
       "      <td>-0.143768</td>\n",
       "      <td>-0.004933</td>\n",
       "      <td>0.070291</td>\n",
       "      <td>-0.258258</td>\n",
       "      <td>-0.179165</td>\n",
       "      <td>0.088886</td>\n",
       "      <td>-0.110131</td>\n",
       "      <td>...</td>\n",
       "      <td>-0.053267</td>\n",
       "      <td>0.092519</td>\n",
       "      <td>-0.351504</td>\n",
       "      <td>0.118517</td>\n",
       "      <td>-0.268701</td>\n",
       "      <td>-0.147621</td>\n",
       "      <td>0.174754</td>\n",
       "      <td>0.017807</td>\n",
       "      <td>-0.075447</td>\n",
       "      <td>question</td>\n",
       "    </tr>\n",
       "    <tr>\n",
       "      <th>58</th>\n",
       "      <td>0.000000</td>\n",
       "      <td>0.000000</td>\n",
       "      <td>0.000000</td>\n",
       "      <td>0.000000</td>\n",
       "      <td>0.000000</td>\n",
       "      <td>0.000000</td>\n",
       "      <td>0.000000</td>\n",
       "      <td>0.000000</td>\n",
       "      <td>0.000000</td>\n",
       "      <td>0.000000</td>\n",
       "      <td>...</td>\n",
       "      <td>0.000000</td>\n",
       "      <td>0.000000</td>\n",
       "      <td>0.000000</td>\n",
       "      <td>0.000000</td>\n",
       "      <td>0.000000</td>\n",
       "      <td>0.000000</td>\n",
       "      <td>0.000000</td>\n",
       "      <td>0.000000</td>\n",
       "      <td>0.000000</td>\n",
       "      <td>sentiment</td>\n",
       "    </tr>\n",
       "    <tr>\n",
       "      <th>3</th>\n",
       "      <td>0.153262</td>\n",
       "      <td>-0.020188</td>\n",
       "      <td>-0.023359</td>\n",
       "      <td>-0.003338</td>\n",
       "      <td>0.014698</td>\n",
       "      <td>-0.003429</td>\n",
       "      <td>-0.123272</td>\n",
       "      <td>0.051771</td>\n",
       "      <td>0.055314</td>\n",
       "      <td>-0.073981</td>\n",
       "      <td>...</td>\n",
       "      <td>0.053647</td>\n",
       "      <td>0.067319</td>\n",
       "      <td>0.034739</td>\n",
       "      <td>0.019138</td>\n",
       "      <td>-0.081660</td>\n",
       "      <td>0.190350</td>\n",
       "      <td>0.129133</td>\n",
       "      <td>-0.046141</td>\n",
       "      <td>0.086841</td>\n",
       "      <td>sentiment</td>\n",
       "    </tr>\n",
       "  </tbody>\n",
       "</table>\n",
       "<p>5 rows × 301 columns</p>\n",
       "</div>"
      ],
      "text/plain": [
       "        vec_0     vec_1     vec_2     vec_3     vec_4     vec_5     vec_6  \\\n",
       "40   0.121055  0.038133  0.012964 -0.020334  0.172047 -0.018421  0.012288   \n",
       "96   0.184373 -0.027292 -0.003579 -0.157275  0.120644  0.097438 -0.022361   \n",
       "104  0.211440  0.160685 -0.051632 -0.143768 -0.004933  0.070291 -0.258258   \n",
       "58   0.000000  0.000000  0.000000  0.000000  0.000000  0.000000  0.000000   \n",
       "3    0.153262 -0.020188 -0.023359 -0.003338  0.014698 -0.003429 -0.123272   \n",
       "\n",
       "        vec_7     vec_8     vec_9    ...       vec_291   vec_292   vec_293  \\\n",
       "40   0.080411  0.024699  0.064562    ...      0.112001  0.017225 -0.103424   \n",
       "96   0.015892  0.075208 -0.044138    ...      0.035711  0.143653 -0.209778   \n",
       "104 -0.179165  0.088886 -0.110131    ...     -0.053267  0.092519 -0.351504   \n",
       "58   0.000000  0.000000  0.000000    ...      0.000000  0.000000  0.000000   \n",
       "3    0.051771  0.055314 -0.073981    ...      0.053647  0.067319  0.034739   \n",
       "\n",
       "      vec_294   vec_295   vec_296   vec_297   vec_298   vec_299    intents  \n",
       "40   0.014032 -0.122818 -0.040137  0.270733 -0.004087  0.040575  sentiment  \n",
       "96  -0.099372 -0.021035 -0.146351  0.091656  0.039907 -0.022892  sentiment  \n",
       "104  0.118517 -0.268701 -0.147621  0.174754  0.017807 -0.075447   question  \n",
       "58   0.000000  0.000000  0.000000  0.000000  0.000000  0.000000  sentiment  \n",
       "3    0.019138 -0.081660  0.190350  0.129133 -0.046141  0.086841  sentiment  \n",
       "\n",
       "[5 rows x 301 columns]"
      ]
     },
     "execution_count": 32,
     "metadata": {},
     "output_type": "execute_result"
    }
   ],
   "source": [
    "df.head()"
   ]
  },
  {
   "cell_type": "code",
   "execution_count": 33,
   "metadata": {
    "collapsed": true
   },
   "outputs": [],
   "source": [
    "X = df.iloc[:, :-1].values\n",
    "y = df.iloc[:,-1:].values.ravel()"
   ]
  },
  {
   "cell_type": "code",
   "execution_count": 34,
   "metadata": {
    "collapsed": false
   },
   "outputs": [],
   "source": [
    "from sklearn.cross_validation import train_test_split\n",
    "X_train,X_val,y_train,y_val = train_test_split(X, y, test_size=0.20)"
   ]
  },
  {
   "cell_type": "code",
   "execution_count": 35,
   "metadata": {
    "collapsed": false
   },
   "outputs": [
    {
     "data": {
      "text/plain": [
       "LogisticRegression(C=1.0, class_weight=None, dual=False, fit_intercept=True,\n",
       "          intercept_scaling=1, max_iter=100, multi_class='ovr', n_jobs=1,\n",
       "          penalty='l2', random_state=None, solver='liblinear', tol=0.0001,\n",
       "          verbose=0, warm_start=False)"
      ]
     },
     "execution_count": 35,
     "metadata": {},
     "output_type": "execute_result"
    }
   ],
   "source": [
    "from sklearn.linear_model import LogisticRegression\n",
    "logit_model = LogisticRegression()\n",
    "logit_model.fit(X_train, y_train)"
   ]
  },
  {
   "cell_type": "code",
   "execution_count": 36,
   "metadata": {
    "collapsed": false
   },
   "outputs": [
    {
     "name": "stdout",
     "output_type": "stream",
     "text": [
      "1.0\n",
      "1.0\n"
     ]
    }
   ],
   "source": [
    "print(logit_model.score(X_train, y_train))\n",
    "print(logit_model.score(X_val, y_val))"
   ]
  },
  {
   "cell_type": "code",
   "execution_count": 37,
   "metadata": {
    "collapsed": false
   },
   "outputs": [
    {
     "name": "stdout",
     "output_type": "stream",
     "text": [
      "[[ 0.4979607  0.5020393]]\n",
      "['sentiment']\n"
     ]
    }
   ],
   "source": [
    "sent = 'i forgot your name'\n",
    "print(logit_model.predict_proba(spacy_get_vec(sent)))\n",
    "print(logit_model.predict(spacy_get_vec(sent)))"
   ]
  },
  {
   "cell_type": "code",
   "execution_count": 38,
   "metadata": {
    "collapsed": true
   },
   "outputs": [],
   "source": [
    "from sklearn.ensemble import GradientBoostingClassifier\n",
    "gradboost = GradientBoostingClassifier(n_estimators=500, max_depth=25)"
   ]
  },
  {
   "cell_type": "code",
   "execution_count": 39,
   "metadata": {
    "collapsed": false
   },
   "outputs": [
    {
     "name": "stdout",
     "output_type": "stream",
     "text": [
      "1.0\n",
      "0.838709677419\n"
     ]
    }
   ],
   "source": [
    "gradboost.fit(X_train, y_train)\n",
    "print(gradboost.score(X_train, y_train))\n",
    "print(gradboost.score(X_val, y_val))"
   ]
  },
  {
   "cell_type": "code",
   "execution_count": 40,
   "metadata": {
    "collapsed": false
   },
   "outputs": [
    {
     "data": {
      "text/plain": [
       "array(['question'], dtype=object)"
      ]
     },
     "execution_count": 40,
     "metadata": {},
     "output_type": "execute_result"
    }
   ],
   "source": [
    "sent = 'i am feeling very happy'\n",
    "gradboost.predict(spacy_get_vec(sent))"
   ]
  },
  {
   "cell_type": "code",
   "execution_count": 42,
   "metadata": {
    "collapsed": false
   },
   "outputs": [
    {
     "data": {
      "text/plain": [
       "array(['sentiment'], dtype=object)"
      ]
     },
     "execution_count": 42,
     "metadata": {},
     "output_type": "execute_result"
    }
   ],
   "source": [
    "sent = 'i think i forgot your name'\n",
    "gradboost.predict(spacy_get_vec(sent))"
   ]
  },
  {
   "cell_type": "code",
   "execution_count": 43,
   "metadata": {
    "collapsed": false
   },
   "outputs": [
    {
     "data": {
      "text/plain": [
       "SVC(C=1.0, cache_size=200, class_weight=None, coef0=0.0,\n",
       "  decision_function_shape=None, degree=2, gamma='auto', kernel='linear',\n",
       "  max_iter=-1, probability=True, random_state=None, shrinking=True,\n",
       "  tol=0.001, verbose=False)"
      ]
     },
     "execution_count": 43,
     "metadata": {},
     "output_type": "execute_result"
    }
   ],
   "source": [
    "from sklearn.svm import SVC\n",
    "svc = SVC(kernel='linear', degree=2, probability=True)\n",
    "svc.fit(X_train, y_train)"
   ]
  },
  {
   "cell_type": "code",
   "execution_count": 44,
   "metadata": {
    "collapsed": false
   },
   "outputs": [
    {
     "name": "stdout",
     "output_type": "stream",
     "text": [
      "1.0\n",
      "1.0\n"
     ]
    }
   ],
   "source": [
    "print(svc.score(X_train, y_train))\n",
    "print(svc.score(X_val, y_val))"
   ]
  },
  {
   "cell_type": "code",
   "execution_count": 50,
   "metadata": {
    "collapsed": false
   },
   "outputs": [
    {
     "data": {
      "text/plain": [
       "array(['question'], dtype=object)"
      ]
     },
     "execution_count": 50,
     "metadata": {},
     "output_type": "execute_result"
    }
   ],
   "source": [
    "sent = 'do you live in France'\n",
    "svc.predict(spacy_get_vec(sent))"
   ]
  },
  {
   "cell_type": "code",
   "execution_count": 46,
   "metadata": {
    "collapsed": false
   },
   "outputs": [
    {
     "data": {
      "text/plain": [
       "array(['question'], dtype=object)"
      ]
     },
     "execution_count": 46,
     "metadata": {},
     "output_type": "execute_result"
    }
   ],
   "source": [
    "sent = 'my name is Batman'\n",
    "svc.predict(spacy_get_vec(sent))"
   ]
  },
  {
   "cell_type": "code",
   "execution_count": 49,
   "metadata": {
    "collapsed": false
   },
   "outputs": [
    {
     "data": {
      "text/plain": [
       "array(['question'], dtype=object)"
      ]
     },
     "execution_count": 49,
     "metadata": {},
     "output_type": "execute_result"
    }
   ],
   "source": [
    "sent = 'i think i forgot your name'\n",
    "svc.predict(spacy_get_vec(sent))"
   ]
  },
  {
   "cell_type": "code",
   "execution_count": 48,
   "metadata": {
    "collapsed": false
   },
   "outputs": [
    {
     "data": {
      "text/plain": [
       "array(['sentiment'], dtype=object)"
      ]
     },
     "execution_count": 48,
     "metadata": {},
     "output_type": "execute_result"
    }
   ],
   "source": [
    "sent = 'it looks cloudy'\n",
    "svc.predict(spacy_get_vec(sent))"
   ]
  },
  {
   "cell_type": "code",
   "execution_count": 22,
   "metadata": {
    "collapsed": false
   },
   "outputs": [
    {
     "data": {
      "text/plain": [
       "MLPClassifier(activation='tanh', alpha=0.0001, batch_size='auto', beta_1=0.9,\n",
       "       beta_2=0.999, early_stopping=False, epsilon=1e-08,\n",
       "       hidden_layer_sizes=(256, 128, 2), learning_rate='adaptive',\n",
       "       learning_rate_init=0.001, max_iter=1000, momentum=0.9,\n",
       "       nesterovs_momentum=True, power_t=0.5, random_state=None,\n",
       "       shuffle=True, solver='lbfgs', tol=0.0001, validation_fraction=0.1,\n",
       "       verbose=False, warm_start=False)"
      ]
     },
     "execution_count": 22,
     "metadata": {},
     "output_type": "execute_result"
    }
   ],
   "source": [
    "from sklearn.neural_network import MLPClassifier\n",
    "nn = MLPClassifier(hidden_layer_sizes=(256, 128, 2), activation='tanh', learning_rate='adaptive', solver='lbfgs', max_iter=1000, )\n",
    "nn.fit(X_train, y_train)\n"
   ]
  },
  {
   "cell_type": "code",
   "execution_count": 23,
   "metadata": {
    "collapsed": false
   },
   "outputs": [
    {
     "name": "stdout",
     "output_type": "stream",
     "text": [
      "0.992592592593\n",
      "0.852941176471\n"
     ]
    }
   ],
   "source": [
    "print(nn.score(X_train, y_train))\n",
    "print(nn.score(X_val, y_val))"
   ]
  },
  {
   "cell_type": "code",
   "execution_count": 24,
   "metadata": {
    "collapsed": false
   },
   "outputs": [
    {
     "name": "stderr",
     "output_type": "stream",
     "text": [
      "/home/abhinav/miniconda3/envs/bots/lib/python3.5/site-packages/sklearn/utils/validation.py:395: DeprecationWarning: Passing 1d arrays as data is deprecated in 0.17 and will raise ValueError in 0.19. Reshape your data either using X.reshape(-1, 1) if your data has a single feature or X.reshape(1, -1) if it contains a single sample.\n",
      "  DeprecationWarning)\n"
     ]
    },
    {
     "data": {
      "text/plain": [
       "array([[  9.99981281e-01,   1.87194896e-05]])"
      ]
     },
     "execution_count": 24,
     "metadata": {},
     "output_type": "execute_result"
    }
   ],
   "source": [
    "sent = 'I have to fly home'\n",
    "nn.predict_proba(spacy_get_vec(sent))"
   ]
  },
  {
   "cell_type": "code",
   "execution_count": 25,
   "metadata": {
    "collapsed": false
   },
   "outputs": [
    {
     "name": "stderr",
     "output_type": "stream",
     "text": [
      "/home/abhinav/miniconda3/envs/bots/lib/python3.5/site-packages/sklearn/utils/validation.py:395: DeprecationWarning: Passing 1d arrays as data is deprecated in 0.17 and will raise ValueError in 0.19. Reshape your data either using X.reshape(-1, 1) if your data has a single feature or X.reshape(1, -1) if it contains a single sample.\n",
      "  DeprecationWarning)\n"
     ]
    },
    {
     "data": {
      "text/plain": [
       "array([[  9.99981281e-01,   1.87194927e-05]])"
      ]
     },
     "execution_count": 25,
     "metadata": {},
     "output_type": "execute_result"
    }
   ],
   "source": [
    "sent = 'my name is Batman'\n",
    "nn.predict_proba(spacy_get_vec(sent))"
   ]
  },
  {
   "cell_type": "code",
   "execution_count": 26,
   "metadata": {
    "collapsed": false
   },
   "outputs": [
    {
     "name": "stderr",
     "output_type": "stream",
     "text": [
      "/home/abhinav/miniconda3/envs/bots/lib/python3.5/site-packages/sklearn/utils/validation.py:395: DeprecationWarning: Passing 1d arrays as data is deprecated in 0.17 and will raise ValueError in 0.19. Reshape your data either using X.reshape(-1, 1) if your data has a single feature or X.reshape(1, -1) if it contains a single sample.\n",
      "  DeprecationWarning)\n"
     ]
    },
    {
     "data": {
      "text/plain": [
       "array([[  6.55637001e-05,   9.99934436e-01]])"
      ]
     },
     "execution_count": 26,
     "metadata": {},
     "output_type": "execute_result"
    }
   ],
   "source": [
    "sent = 'it looks cloudy'\n",
    "nn.predict_proba(spacy_get_vec(sent))"
   ]
  },
  {
   "cell_type": "code",
   "execution_count": 51,
   "metadata": {
    "collapsed": false
   },
   "outputs": [
    {
     "data": {
      "text/plain": [
       "['is_question.pkl']"
      ]
     },
     "execution_count": 51,
     "metadata": {},
     "output_type": "execute_result"
    }
   ],
   "source": [
    "from sklearn.externals import joblib\n",
    "joblib.dump(svc, 'is_question.pkl')"
   ]
  },
  {
   "cell_type": "code",
   "execution_count": null,
   "metadata": {
    "collapsed": true
   },
   "outputs": [],
   "source": []
  }
 ],
 "metadata": {
  "kernelspec": {
   "display_name": "Python 3",
   "language": "python",
   "name": "python3"
  },
  "language_info": {
   "codemirror_mode": {
    "name": "ipython",
    "version": 3
   },
   "file_extension": ".py",
   "mimetype": "text/x-python",
   "name": "python",
   "nbconvert_exporter": "python",
   "pygments_lexer": "ipython3",
   "version": "3.5.2"
  }
 },
 "nbformat": 4,
 "nbformat_minor": 1
}
